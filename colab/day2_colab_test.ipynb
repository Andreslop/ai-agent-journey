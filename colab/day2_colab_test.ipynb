{
  "nbformat": 4,
  "nbformat_minor": 0,
  "metadata": {
    "colab": {
      "provenance": []
    },
    "kernelspec": {
      "name": "python3",
      "display_name": "Python 3"
    },
    "language_info": {
      "name": "python"
    }
  },
  "cells": [
    {
      "cell_type": "code",
      "execution_count": 1,
      "metadata": {
        "colab": {
          "base_uri": "https://localhost:8080/"
        },
        "id": "Z4btAr2XOKXL",
        "outputId": "849b98e4-1171-4e8d-cb2f-818997d032dc"
      },
      "outputs": [
        {
          "output_type": "stream",
          "name": "stdout",
          "text": [
            "Hey, Andrés! 👋 Welcome.\n"
          ]
        }
      ],
      "source": [
        "name = \"Andrés\"\n",
        "print(f\"Hey, {name}! 👋 Welcome.\")\n"
      ]
    }
  ]
}