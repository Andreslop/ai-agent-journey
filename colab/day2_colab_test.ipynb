{
  "nbformat": 4,
  "nbformat_minor": 0,
  "metadata": {
    "colab": {
      "provenance": []
    },
    "kernelspec": {
      "name": "python3",
      "display_name": "Python 3"
    },
    "language_info": {
      "name": "python"
    }
  },
  "cells": [
    {
      "cell_type": "markdown",
      "source": [
        "# Day 2 – Google Colab Test\n",
        "\n",
        "Testing Google Colab notebook and practicing GitHub upload.\n"
      ],
      "metadata": {
        "id": "dkW6lgC0Phnj"
      }
    },
    {
      "cell_type": "code",
      "source": [
        "\n",
        "name = \"Andrés\"\n",
        "print(f\"Hey, {name}! 👋 Welcome.\")"
      ],
      "metadata": {
        "colab": {
          "base_uri": "https://localhost:8080/"
        },
        "id": "93I5sGajPih8",
        "outputId": "bf353e50-16ce-430e-dbb9-65ae33a6279a"
      },
      "execution_count": 10,
      "outputs": [
        {
          "output_type": "stream",
          "name": "stdout",
          "text": [
            "Hey, Andrés! 👋 Welcome.\n"
          ]
        }
      ]
    }
  ]
}